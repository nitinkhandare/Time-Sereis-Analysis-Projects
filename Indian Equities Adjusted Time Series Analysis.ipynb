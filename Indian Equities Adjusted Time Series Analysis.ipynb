{
 "cells": [
  {
   "cell_type": "markdown",
   "metadata": {},
   "source": [
    "#### AUTHOR - NITIN KHANDARE      REG-NO. 17225760037     DATA SCIENCE      MANIPAL PROLEARN"
   ]
  },
  {
   "cell_type": "markdown",
   "metadata": {},
   "source": [
    "### Indian Equities Adjusted End of Day Prices"
   ]
  },
  {
   "cell_type": "markdown",
   "metadata": {},
   "source": [
    "#### This Notebook is a sort of tutorial for the beginners in Deep Learning and time-series data analysis."
   ]
  },
  {
   "cell_type": "markdown",
   "metadata": {},
   "source": [
    "#### The aim is just to show how to build the simplest Long Short-Term Memory (LSTM) recurrent neural network for the data."
   ]
  },
  {
   "cell_type": "markdown",
   "metadata": {},
   "source": []
  },
  {
   "cell_type": "code",
   "execution_count": 1,
   "metadata": {},
   "outputs": [
    {
     "name": "stderr",
     "output_type": "stream",
     "text": [
      "Using TensorFlow backend.\n"
     ]
    }
   ],
   "source": [
    "# Let`s import all packages that we may need:\n",
    "\n",
    "import sys \n",
    "import numpy as np # linear algebra\n",
    "from scipy.stats import randint\n",
    "import pandas as pd # data processing, CSV file I/O (e.g. pd.read_csv), data manipulation as in SQL\n",
    "import matplotlib.pyplot as plt # this is used for the plot the graph \n",
    "import seaborn as sns # used for plot interactive graph. \n",
    "from sklearn.model_selection import train_test_split # to split the data into two parts\n",
    "\n",
    "#from sklearn.cross_validation import KFold # use for cross validation\n",
    "from sklearn.preprocessing import StandardScaler # for normalization\n",
    "from sklearn.preprocessing import MinMaxScaler\n",
    "from sklearn.pipeline import Pipeline # pipeline making\n",
    "from sklearn.model_selection import cross_val_score\n",
    "from sklearn.feature_selection import SelectFromModel\n",
    "from sklearn import metrics # for the check the error and accuracy of the model\n",
    "from sklearn.metrics import mean_squared_error,r2_score\n",
    "\n",
    "## for Deep-learing:\n",
    "\n",
    "import keras\n",
    "from keras.layers import Dense\n",
    "from keras.models import Sequential\n",
    "from keras.utils import to_categorical\n",
    "from keras.optimizers import SGD \n",
    "from keras.callbacks import EarlyStopping\n",
    "from keras.utils import np_utils\n",
    "import itertools\n",
    "from keras.layers import LSTM\n",
    "from keras.layers.convolutional import Conv1D\n",
    "from keras.layers.convolutional import MaxPooling1D\n",
    "from keras.layers import Dropout\n",
    "import quandl"
   ]
  },
  {
   "cell_type": "markdown",
   "metadata": {},
   "source": [
    "### 1. Oil & Natural Gas Corporation Ltd - Adjusted Pricing"
   ]
  },
  {
   "cell_type": "code",
   "execution_count": 4,
   "metadata": {},
   "outputs": [],
   "source": [
    "BajajElect = quandl.get(\"XBOM/500031\", authtoken=\"gmN2xKGChq4zRr3b7wNm\",parse_dates={'dt' : ['Date', 'Time']}, infer_datetime_format=True, \n",
    "                 low_memory=False, na_values=['nan','?'], index_col='dt')"
   ]
  },
  {
   "cell_type": "code",
   "execution_count": 3,
   "metadata": {},
   "outputs": [],
   "source": [
    "BajajElect.reset_index(inplace = True)"
   ]
  },
  {
   "cell_type": "code",
   "execution_count": 5,
   "metadata": {
    "scrolled": true
   },
   "outputs": [
    {
     "data": {
      "text/html": [
       "<div>\n",
       "<style scoped>\n",
       "    .dataframe tbody tr th:only-of-type {\n",
       "        vertical-align: middle;\n",
       "    }\n",
       "\n",
       "    .dataframe tbody tr th {\n",
       "        vertical-align: top;\n",
       "    }\n",
       "\n",
       "    .dataframe thead th {\n",
       "        text-align: right;\n",
       "    }\n",
       "</style>\n",
       "<table border=\"1\" class=\"dataframe\">\n",
       "  <thead>\n",
       "    <tr style=\"text-align: right;\">\n",
       "      <th></th>\n",
       "      <th>Open</th>\n",
       "      <th>High</th>\n",
       "      <th>Low</th>\n",
       "      <th>Close</th>\n",
       "      <th>Volume</th>\n",
       "      <th>Adjustment Factor</th>\n",
       "      <th>Adjustment Type</th>\n",
       "    </tr>\n",
       "    <tr>\n",
       "      <th>Date</th>\n",
       "      <th></th>\n",
       "      <th></th>\n",
       "      <th></th>\n",
       "      <th></th>\n",
       "      <th></th>\n",
       "      <th></th>\n",
       "      <th></th>\n",
       "    </tr>\n",
       "  </thead>\n",
       "  <tbody>\n",
       "    <tr>\n",
       "      <th>2007-01-02</th>\n",
       "      <td>39.916862</td>\n",
       "      <td>40.094772</td>\n",
       "      <td>38.879779</td>\n",
       "      <td>39.218241</td>\n",
       "      <td>28000.0</td>\n",
       "      <td>NaN</td>\n",
       "      <td>NaN</td>\n",
       "    </tr>\n",
       "    <tr>\n",
       "      <th>2007-01-03</th>\n",
       "      <td>38.714887</td>\n",
       "      <td>40.181557</td>\n",
       "      <td>38.714887</td>\n",
       "      <td>40.021004</td>\n",
       "      <td>30480.0</td>\n",
       "      <td>NaN</td>\n",
       "      <td>NaN</td>\n",
       "    </tr>\n",
       "    <tr>\n",
       "      <th>2007-01-04</th>\n",
       "      <td>40.615483</td>\n",
       "      <td>40.702268</td>\n",
       "      <td>39.400490</td>\n",
       "      <td>40.541716</td>\n",
       "      <td>10260.0</td>\n",
       "      <td>NaN</td>\n",
       "      <td>NaN</td>\n",
       "    </tr>\n",
       "    <tr>\n",
       "      <th>2007-01-05</th>\n",
       "      <td>40.268342</td>\n",
       "      <td>40.355128</td>\n",
       "      <td>39.053349</td>\n",
       "      <td>39.812720</td>\n",
       "      <td>21430.0</td>\n",
       "      <td>NaN</td>\n",
       "      <td>NaN</td>\n",
       "    </tr>\n",
       "    <tr>\n",
       "      <th>2007-01-08</th>\n",
       "      <td>40.355128</td>\n",
       "      <td>43.045469</td>\n",
       "      <td>40.103450</td>\n",
       "      <td>42.160260</td>\n",
       "      <td>59870.0</td>\n",
       "      <td>NaN</td>\n",
       "      <td>NaN</td>\n",
       "    </tr>\n",
       "  </tbody>\n",
       "</table>\n",
       "</div>"
      ],
      "text/plain": [
       "                 Open       High        Low      Close   Volume  \\\n",
       "Date                                                              \n",
       "2007-01-02  39.916862  40.094772  38.879779  39.218241  28000.0   \n",
       "2007-01-03  38.714887  40.181557  38.714887  40.021004  30480.0   \n",
       "2007-01-04  40.615483  40.702268  39.400490  40.541716  10260.0   \n",
       "2007-01-05  40.268342  40.355128  39.053349  39.812720  21430.0   \n",
       "2007-01-08  40.355128  43.045469  40.103450  42.160260  59870.0   \n",
       "\n",
       "            Adjustment Factor  Adjustment Type  \n",
       "Date                                            \n",
       "2007-01-02                NaN              NaN  \n",
       "2007-01-03                NaN              NaN  \n",
       "2007-01-04                NaN              NaN  \n",
       "2007-01-05                NaN              NaN  \n",
       "2007-01-08                NaN              NaN  "
      ]
     },
     "execution_count": 5,
     "metadata": {},
     "output_type": "execute_result"
    }
   ],
   "source": [
    "BajajElect.head()"
   ]
  },
  {
   "cell_type": "code",
   "execution_count": 6,
   "metadata": {},
   "outputs": [
    {
     "data": {
      "text/html": [
       "<div>\n",
       "<style scoped>\n",
       "    .dataframe tbody tr th:only-of-type {\n",
       "        vertical-align: middle;\n",
       "    }\n",
       "\n",
       "    .dataframe tbody tr th {\n",
       "        vertical-align: top;\n",
       "    }\n",
       "\n",
       "    .dataframe thead th {\n",
       "        text-align: right;\n",
       "    }\n",
       "</style>\n",
       "<table border=\"1\" class=\"dataframe\">\n",
       "  <thead>\n",
       "    <tr style=\"text-align: right;\">\n",
       "      <th></th>\n",
       "      <th>Open</th>\n",
       "      <th>High</th>\n",
       "      <th>Low</th>\n",
       "      <th>Close</th>\n",
       "      <th>Volume</th>\n",
       "      <th>Adjustment Factor</th>\n",
       "      <th>Adjustment Type</th>\n",
       "    </tr>\n",
       "    <tr>\n",
       "      <th>Date</th>\n",
       "      <th></th>\n",
       "      <th></th>\n",
       "      <th></th>\n",
       "      <th></th>\n",
       "      <th></th>\n",
       "      <th></th>\n",
       "      <th></th>\n",
       "    </tr>\n",
       "  </thead>\n",
       "  <tbody>\n",
       "    <tr>\n",
       "      <th>2018-11-26</th>\n",
       "      <td>471.00</td>\n",
       "      <td>471.00</td>\n",
       "      <td>459.05</td>\n",
       "      <td>462.05</td>\n",
       "      <td>13493.0</td>\n",
       "      <td>NaN</td>\n",
       "      <td>NaN</td>\n",
       "    </tr>\n",
       "    <tr>\n",
       "      <th>2018-11-27</th>\n",
       "      <td>458.65</td>\n",
       "      <td>460.80</td>\n",
       "      <td>451.00</td>\n",
       "      <td>455.60</td>\n",
       "      <td>12365.0</td>\n",
       "      <td>NaN</td>\n",
       "      <td>NaN</td>\n",
       "    </tr>\n",
       "    <tr>\n",
       "      <th>2018-11-28</th>\n",
       "      <td>461.35</td>\n",
       "      <td>473.00</td>\n",
       "      <td>455.70</td>\n",
       "      <td>471.00</td>\n",
       "      <td>27896.0</td>\n",
       "      <td>NaN</td>\n",
       "      <td>NaN</td>\n",
       "    </tr>\n",
       "    <tr>\n",
       "      <th>2018-11-29</th>\n",
       "      <td>470.95</td>\n",
       "      <td>477.80</td>\n",
       "      <td>469.65</td>\n",
       "      <td>472.25</td>\n",
       "      <td>16843.0</td>\n",
       "      <td>NaN</td>\n",
       "      <td>NaN</td>\n",
       "    </tr>\n",
       "    <tr>\n",
       "      <th>2018-11-30</th>\n",
       "      <td>471.80</td>\n",
       "      <td>483.75</td>\n",
       "      <td>468.90</td>\n",
       "      <td>471.90</td>\n",
       "      <td>21052.0</td>\n",
       "      <td>NaN</td>\n",
       "      <td>NaN</td>\n",
       "    </tr>\n",
       "  </tbody>\n",
       "</table>\n",
       "</div>"
      ],
      "text/plain": [
       "              Open    High     Low   Close   Volume  Adjustment Factor  \\\n",
       "Date                                                                     \n",
       "2018-11-26  471.00  471.00  459.05  462.05  13493.0                NaN   \n",
       "2018-11-27  458.65  460.80  451.00  455.60  12365.0                NaN   \n",
       "2018-11-28  461.35  473.00  455.70  471.00  27896.0                NaN   \n",
       "2018-11-29  470.95  477.80  469.65  472.25  16843.0                NaN   \n",
       "2018-11-30  471.80  483.75  468.90  471.90  21052.0                NaN   \n",
       "\n",
       "            Adjustment Type  \n",
       "Date                         \n",
       "2018-11-26              NaN  \n",
       "2018-11-27              NaN  \n",
       "2018-11-28              NaN  \n",
       "2018-11-29              NaN  \n",
       "2018-11-30              NaN  "
      ]
     },
     "execution_count": 6,
     "metadata": {},
     "output_type": "execute_result"
    }
   ],
   "source": [
    "BajajElect.tail()"
   ]
  },
  {
   "cell_type": "code",
   "execution_count": null,
   "metadata": {},
   "outputs": [],
   "source": [
    "BajajElect.Date = pd.to_datetime(BajajElect.Date)"
   ]
  },
  {
   "cell_type": "code",
   "execution_count": 8,
   "metadata": {},
   "outputs": [
    {
     "data": {
      "text/plain": [
       "[5, 6]"
      ]
     },
     "execution_count": 8,
     "metadata": {},
     "output_type": "execute_result"
    }
   ],
   "source": [
    "## finding all columns that have nan:\n",
    "\n",
    "droping_list_all=[]\n",
    "for j in range(0,7):\n",
    "    if not BajajElect.iloc[:, j].notnull().all():\n",
    "        droping_list_all.append(j)        \n",
    "        #print(df.iloc[:,j].unique())\n",
    "droping_list_all"
   ]
  },
  {
   "cell_type": "code",
   "execution_count": 9,
   "metadata": {},
   "outputs": [],
   "source": [
    "# filling nan with mean in any columns\n",
    "\n",
    "for j in range(0,7):        \n",
    "        BajajElect.iloc[:,j]=BajajElect.iloc[:,j].fillna(BajajElect.iloc[:,j].mean())"
   ]
  },
  {
   "cell_type": "code",
   "execution_count": 10,
   "metadata": {},
   "outputs": [
    {
     "data": {
      "text/plain": [
       "Open                 0\n",
       "High                 0\n",
       "Low                  0\n",
       "Close                0\n",
       "Volume               0\n",
       "Adjustment Factor    0\n",
       "Adjustment Type      0\n",
       "dtype: int64"
      ]
     },
     "execution_count": 10,
     "metadata": {},
     "output_type": "execute_result"
    }
   ],
   "source": [
    "# another sanity check to make sure that there are not more any nan\n",
    "BajajElect.isnull().sum()"
   ]
  },
  {
   "cell_type": "code",
   "execution_count": null,
   "metadata": {},
   "outputs": [],
   "source": []
  },
  {
   "cell_type": "code",
   "execution_count": null,
   "metadata": {},
   "outputs": [],
   "source": []
  },
  {
   "cell_type": "markdown",
   "metadata": {},
   "source": [
    "### Data visualization"
   ]
  },
  {
   "cell_type": "code",
   "execution_count": 11,
   "metadata": {},
   "outputs": [
    {
     "data": {
      "image/png": "[encoded data removed]",
      "text/plain": [
       "<Figure size 432x288 with 1 Axes>"
      ]
     },
     "metadata": {
      "needs_background": "light"
     },
     "output_type": "display_data"
    },
    {
     "data": {
      "image/png": "[encoded data removed]",
      "text/plain": [
       "<Figure size 432x288 with 1 Axes>"
      ]
     },
     "metadata": {
      "needs_background": "light"
     },
     "output_type": "display_data"
    }
   ],
   "source": [
    "BajajElect.Close.resample('D').sum().plot(title='Close') \n",
    "BajajElect.Close.resample('D').mean().plot(title='Close', color='red') \n",
    "plt.tight_layout()\n",
    "plt.show()   \n",
    "\n",
    "BajajElect.Close.resample('D').mean().plot(title='Close', color='red') \n",
    "plt.tight_layout()\n",
    "plt.show()"
   ]
  },
  {
   "cell_type": "code",
   "execution_count": 12,
   "metadata": {},
   "outputs": [
    {
     "data": {
      "image/png": "[encoded data removed]",
      "text/plain": [
       "<Figure size 432x288 with 2 Axes>"
      ]
     },
     "metadata": {
      "needs_background": "light"
     },
     "output_type": "display_data"
    }
   ],
   "source": [
    "### Below I show mean and std of 'Global_intensity' resampled over day \n",
    "r = BajajElect.Open.resample('D').agg(['mean', 'std'])\n",
    "r.plot(subplots = True, title='Open Price resampled over Year')\n",
    "plt.show()"
   ]
  },
  {
   "cell_type": "code",
   "execution_count": 13,
   "metadata": {},
   "outputs": [
    {
     "data": {
      "image/png": "[encoded data removed]",
      "text/plain": [
       "<Figure size 432x288 with 2 Axes>"
      ]
     },
     "metadata": {
      "needs_background": "light"
     },
     "output_type": "display_data"
    }
   ],
   "source": [
    "### Below I show mean and std of 'BajajElect High Price' resampled over day\n",
    "r2 = BajajElect.High.resample('D').agg(['mean', 'std'])\n",
    "r2.plot(subplots = True, title='High Price resampled over Year', color='red')\n",
    "plt.show()"
   ]
  },
  {
   "cell_type": "code",
   "execution_count": 14,
   "metadata": {},
   "outputs": [
    {
     "data": {
      "image/png": "[encoded data removed]",
      "text/plain": [
       "<Figure size 432x288 with 1 Axes>"
      ]
     },
     "metadata": {
      "needs_background": "light"
     },
     "output_type": "display_data"
    }
   ],
   "source": [
    "### Sum of 'BajajElect Close Price resampled over month\n",
    "\n",
    "BajajElect['Close'].resample('Q').mean().plot(kind='bar')\n",
    "plt.xticks(rotation=500)\n",
    "plt.ylabel('Close Price')\n",
    "plt.title('BajajElect Close Price per month (averaged over month)')\n",
    "plt.show()"
   ]
  },
  {
   "cell_type": "code",
   "execution_count": 15,
   "metadata": {},
   "outputs": [
    {
     "data": {
      "image/png": "[encoded data removed]",
      "text/plain": [
       "<Figure size 1080x720 with 6 Axes>"
      ]
     },
     "metadata": {
      "needs_background": "light"
     },
     "output_type": "display_data"
    }
   ],
   "source": [
    "# Below I compare the mean of different featuresresampled over day. \n",
    "# specify columns to plot\n",
    "cols = [0, 1, 2, 3, 5, 6]\n",
    "i = 1\n",
    "groups=cols\n",
    "values = BajajElect.resample('D').mean().values\n",
    "# plot each column\n",
    "plt.figure(figsize=(15, 10))\n",
    "for group in groups:\n",
    "\tplt.subplot(len(cols), 1, i)\n",
    "\tplt.plot(values[:, group])\n",
    "\tplt.title(BajajElect.columns[group], y=0.75, loc='right')\n",
    "\ti += 1\n",
    "plt.show()"
   ]
  },
  {
   "cell_type": "code",
   "execution_count": 16,
   "metadata": {},
   "outputs": [
    {
     "data": {
      "image/png": "[encoded data removed]",
      "text/plain": [
       "<Figure size 432x288 with 1 Axes>"
      ]
     },
     "metadata": {
      "needs_background": "light"
     },
     "output_type": "display_data"
    }
   ],
   "source": [
    "## resampling over Year and computing mean\n",
    "BajajElect.Open.resample('W').mean().plot(color='y', legend=True)\n",
    "BajajElect.Close.resample('W').mean().plot(color='r', legend=True)\n",
    "BajajElect.Low.resample('W').mean().plot(color='b', legend=True)\n",
    "BajajElect.High.resample('W').mean().plot(color='g', legend=True)\n",
    "plt.show()"
   ]
  },
  {
   "cell_type": "code",
   "execution_count": 17,
   "metadata": {},
   "outputs": [
    {
     "data": {
      "image/png": "[encoded data removed]",
      "text/plain": [
       "<Figure size 432x288 with 1 Axes>"
      ]
     },
     "metadata": {
      "needs_background": "light"
     },
     "output_type": "display_data"
    }
   ],
   "source": [
    "# Below I show hist plot of the mean of different feature resampled over month \n",
    "BajajElect.Open.resample('M').mean().plot(kind='hist', color='r', legend=True )\n",
    "BajajElect.Close.resample('M').mean().plot(kind='hist',color='b', legend=True)\n",
    "#df.Voltage.resample('M').sum().plot(kind='hist',color='g', legend=True)\n",
    "BajajElect.Low.resample('M').mean().plot(kind='hist', color='g', legend=True)\n",
    "BajajElect.High.resample('M').mean().plot(kind='hist', color='y', legend=True)\n",
    "plt.show()"
   ]
  },
  {
   "cell_type": "code",
   "execution_count": 18,
   "metadata": {},
   "outputs": [
    {
     "name": "stderr",
     "output_type": "stream",
     "text": [
      "C:\\Users\\NitinKhandare\\AppData\\Local\\Continuum\\anaconda3\\envs\\ANN\\lib\\site-packages\\scipy\\stats\\stats.py:1713: FutureWarning: Using a non-tuple sequence for multidimensional indexing is deprecated; use `arr[tuple(seq)]` instead of `arr[seq]`. In the future this will be interpreted as an array index, `arr[np.array(seq)]`, which will result either in an error or a different result.\n",
      "  return np.add.reduce(sorted[indexer] * weights, axis=axis) / sumval\n"
     ]
    },
    {
     "data": {
      "image/png": "[encoded data removed]",
      "text/plain": [
       "<Figure size 432x432 with 3 Axes>"
      ]
     },
     "metadata": {
      "needs_background": "light"
     },
     "output_type": "display_data"
    }
   ],
   "source": [
    "## The correlations between 'Global_intensity', 'Global_active_power'\n",
    "data_returns = BajajElect.pct_change()\n",
    "sns.jointplot(x='Open', y='High', data=data_returns)  \n",
    "\n",
    "plt.show()"
   ]
  },
  {
   "cell_type": "code",
   "execution_count": null,
   "metadata": {},
   "outputs": [],
   "source": []
  },
  {
   "cell_type": "code",
   "execution_count": 19,
   "metadata": {},
   "outputs": [],
   "source": [
    "def series_to_supervised(data, n_in=1, n_out=1, dropnan=True):\n",
    "\tn_vars = 1 if type(data) is list else data.shape[1]\n",
    "\tdff = pd.DataFrame(data)\n",
    "\tcols, names = list(), list()\n",
    "\t# input sequence (t-n, ... t-1)\n",
    "\tfor i in range(n_in, 0, -1):\n",
    "\t\tcols.append(dff.shift(i))\n",
    "\t\tnames += [('var%d(t-%d)' % (j+1, i)) for j in range(n_vars)]\n",
    "\t# forecast sequence (t, t+1, ... t+n)\n",
    "\tfor i in range(0, n_out):\n",
    "\t\tcols.append(dff.shift(-i))\n",
    "\t\tif i == 0:\n",
    "\t\t\tnames += [('var%d(t)' % (j+1)) for j in range(n_vars)]\n",
    "\t\telse:\n",
    "\t\t\tnames += [('var%d(t+%d)' % (j+1, i)) for j in range(n_vars)]\n",
    "\t# put it all together\n",
    "\tagg = pd.concat(cols, axis=1)\n",
    "\tagg.columns = names\n",
    "\t# drop rows with NaN values\n",
    "\tif dropnan:\n",
    "\t\tagg.dropna(inplace=True)\n",
    "\treturn agg"
   ]
  },
  {
   "cell_type": "code",
   "execution_count": 20,
   "metadata": {},
   "outputs": [
    {
     "data": {
      "text/plain": [
       "(4351, 7)"
      ]
     },
     "execution_count": 20,
     "metadata": {},
     "output_type": "execute_result"
    }
   ],
   "source": [
    "## resampling of data over hour\n",
    "df_resample = BajajElect.resample('d').mean() \n",
    "df_resample.shape"
   ]
  },
  {
   "cell_type": "code",
   "execution_count": 21,
   "metadata": {},
   "outputs": [
    {
     "name": "stdout",
     "output_type": "stream",
     "text": [
      "   var1(t-1)  var2(t-1)  var3(t-1)  var4(t-1)  var5(t-1)  var6(t-1)  \\\n",
      "1   0.023323   0.022075   0.023031   0.021498   0.003636   0.866215   \n",
      "2   0.021502   0.022203   0.022770   0.022725   0.003958   0.866215   \n",
      "3   0.024381   0.022972   0.023855   0.023521   0.001332   0.866215   \n",
      "7   0.023987   0.026432   0.024967   0.025993   0.007775   0.866215   \n",
      "8   0.025958   0.025663   0.024679   0.025602   0.003800   0.866215   \n",
      "\n",
      "   var7(t-1)   var1(t)  \n",
      "1   0.897436  0.021502  \n",
      "2   0.897436  0.024381  \n",
      "3   0.897436  0.023855  \n",
      "7   0.897436  0.025958  \n",
      "8   0.897436  0.026346  \n"
     ]
    }
   ],
   "source": [
    "## * Note: I scale all features in range of [0,1].\n",
    "\n",
    "## If you would like to train based on the resampled data (over hour), then used below\n",
    "values = df_resample.values \n",
    "\n",
    "\n",
    "## full data without resampling\n",
    "#values = df.values\n",
    "\n",
    "# integer encode direction\n",
    "# ensure all data is float\n",
    "#values = values.astype('float32')\n",
    "# normalize features\n",
    "scaler = MinMaxScaler(feature_range=(0, 1))\n",
    "scaled = scaler.fit_transform(values)\n",
    "# frame as supervised learning\n",
    "reframed = series_to_supervised(scaled, 1, 1)\n",
    "\n",
    "# drop columns we don't want to predict\n",
    "reframed.drop(reframed.columns[[8,9,10,11,12,13]], axis=1, inplace=True)\n",
    "print(reframed.head())"
   ]
  },
  {
   "cell_type": "markdown",
   "metadata": {},
   "source": [
    "### Splitting the rest of data to train and validation sets\n",
    "\n",
    "#### First, I split the prepared dataset into train and test sets. To speed up the training of the model (for the sake of the demonstration), we will only train the model on the first year of data, then evaluate it on the next 3 years of data."
   ]
  },
  {
   "cell_type": "code",
   "execution_count": 22,
   "metadata": {},
   "outputs": [
    {
     "name": "stdout",
     "output_type": "stream",
     "text": [
      "(365, 1, 7) (365,) (2122, 1, 7) (2122,)\n"
     ]
    }
   ],
   "source": [
    "# split into train and test sets\n",
    "values = reframed.values\n",
    "\n",
    "n_train_time = 365\n",
    "train = values[:n_train_time, :]\n",
    "test = values[n_train_time:, :]\n",
    "##test = values[n_train_time:n_test_time, :]\n",
    "# split into input and outputs\n",
    "train_X, train_y = train[:, :-1], train[:, -1]\n",
    "test_X, test_y = test[:, :-1], test[:, -1]\n",
    "# reshape input to be 3D [samples, timesteps, features]\n",
    "train_X = train_X.reshape((train_X.shape[0], 1, train_X.shape[1]))\n",
    "test_X = test_X.reshape((test_X.shape[0], 1, test_X.shape[1]))\n",
    "print(train_X.shape, train_y.shape, test_X.shape, test_y.shape) \n",
    "# We reshaped the input into the 3D format as expected by LSTMs, namely [samples, timesteps, features]."
   ]
  },
  {
   "cell_type": "markdown",
   "metadata": {},
   "source": [
    "### Model architecture\n",
    "\n",
    "##### 1) LSTM with 100 neurons in the first visible layer\n",
    "##### 3) dropout 20%\n",
    "##### 4) 1 neuron in the output layer for predicting Global_active_power.\n",
    "##### 5) The input shape will be 1 time step with 7 features.\n",
    "##### 6) I use the Mean Absolute Error (MAE) loss function and the efficient Adam version of stochastic gradient descent.\n",
    "##### 7) The model will be fit for 20 training epochs with a batch size of 70."
   ]
  },
  {
   "cell_type": "code",
   "execution_count": 23,
   "metadata": {},
   "outputs": [
    {
     "name": "stdout",
     "output_type": "stream",
     "text": [
      "Train on 365 samples, validate on 2122 samples\n",
      "Epoch 1/250\n",
      " - 1s - loss: 0.0026 - val_loss: 0.0942\n",
      "Epoch 2/250\n",
      " - 0s - loss: 9.3894e-04 - val_loss: 0.0748\n",
      "Epoch 3/250\n",
      " - 0s - loss: 0.0017 - val_loss: 0.0788\n",
      "Epoch 4/250\n",
      " - 0s - loss: 0.0012 - val_loss: 0.0858\n",
      "Epoch 5/250\n",
      " - 0s - loss: 0.0012 - val_loss: 0.0836\n",
      "Epoch 6/250\n",
      " - 0s - loss: 9.0029e-04 - val_loss: 0.0739\n",
      "Epoch 7/250\n",
      " - 0s - loss: 8.0678e-04 - val_loss: 0.0649\n",
      "Epoch 8/250\n",
      " - 0s - loss: 9.0894e-04 - val_loss: 0.0605\n",
      "Epoch 9/250\n",
      " - 0s - loss: 8.6970e-04 - val_loss: 0.0593\n",
      "Epoch 10/250\n",
      " - 0s - loss: 7.6006e-04 - val_loss: 0.0567\n",
      "Epoch 11/250\n",
      " - 0s - loss: 7.0111e-04 - val_loss: 0.0519\n",
      "Epoch 12/250\n",
      " - 0s - loss: 7.4119e-04 - val_loss: 0.0463\n",
      "Epoch 13/250\n",
      " - 0s - loss: 6.9519e-04 - val_loss: 0.0423\n",
      "Epoch 14/250\n",
      " - 0s - loss: 6.0256e-04 - val_loss: 0.0398\n",
      "Epoch 15/250\n",
      " - 0s - loss: 6.3853e-04 - val_loss: 0.0375\n",
      "Epoch 16/250\n",
      " - 0s - loss: 4.9533e-04 - val_loss: 0.0335\n",
      "Epoch 17/250\n",
      " - 0s - loss: 4.8982e-04 - val_loss: 0.0303\n",
      "Epoch 18/250\n",
      " - 0s - loss: 5.2505e-04 - val_loss: 0.0279\n",
      "Epoch 19/250\n",
      " - 0s - loss: 4.3488e-04 - val_loss: 0.0256\n",
      "Epoch 20/250\n",
      " - 0s - loss: 4.1006e-04 - val_loss: 0.0229\n",
      "Epoch 21/250\n",
      " - 0s - loss: 4.4136e-04 - val_loss: 0.0199\n",
      "Epoch 22/250\n",
      " - 0s - loss: 3.8366e-04 - val_loss: 0.0181\n",
      "Epoch 23/250\n",
      " - 0s - loss: 4.0048e-04 - val_loss: 0.0165\n",
      "Epoch 24/250\n",
      " - 0s - loss: 3.9946e-04 - val_loss: 0.0145\n",
      "Epoch 25/250\n",
      " - 0s - loss: 3.7002e-04 - val_loss: 0.0122\n",
      "Epoch 26/250\n",
      " - 0s - loss: 3.1391e-04 - val_loss: 0.0110\n",
      "Epoch 27/250\n",
      " - 0s - loss: 2.9356e-04 - val_loss: 0.0098\n",
      "Epoch 28/250\n",
      " - 0s - loss: 2.3245e-04 - val_loss: 0.0080\n",
      "Epoch 29/250\n",
      " - 0s - loss: 2.6518e-04 - val_loss: 0.0066\n",
      "Epoch 30/250\n",
      " - 0s - loss: 2.4512e-04 - val_loss: 0.0058\n",
      "Epoch 31/250\n",
      " - 0s - loss: 2.0552e-04 - val_loss: 0.0050\n",
      "Epoch 32/250\n",
      " - 0s - loss: 2.2015e-04 - val_loss: 0.0041\n",
      "Epoch 33/250\n",
      " - 0s - loss: 2.0440e-04 - val_loss: 0.0036\n",
      "Epoch 34/250\n",
      " - 0s - loss: 2.1853e-04 - val_loss: 0.0034\n",
      "Epoch 35/250\n",
      " - 0s - loss: 2.0655e-04 - val_loss: 0.0025\n",
      "Epoch 36/250\n",
      " - 0s - loss: 1.9085e-04 - val_loss: 0.0019\n",
      "Epoch 37/250\n",
      " - 0s - loss: 1.8386e-04 - val_loss: 0.0019\n",
      "Epoch 38/250\n",
      " - 0s - loss: 1.6910e-04 - val_loss: 0.0018\n",
      "Epoch 39/250\n",
      " - 0s - loss: 1.5742e-04 - val_loss: 0.0012\n",
      "Epoch 40/250\n",
      " - 0s - loss: 1.6023e-04 - val_loss: 9.9265e-04\n",
      "Epoch 41/250\n",
      " - 0s - loss: 1.6917e-04 - val_loss: 9.4299e-04\n",
      "Epoch 42/250\n",
      " - 0s - loss: 1.3698e-04 - val_loss: 7.0522e-04\n",
      "Epoch 43/250\n",
      " - 0s - loss: 1.5817e-04 - val_loss: 4.4616e-04\n",
      "Epoch 44/250\n",
      " - 0s - loss: 1.3338e-04 - val_loss: 4.1062e-04\n",
      "Epoch 45/250\n",
      " - 0s - loss: 1.4801e-04 - val_loss: 3.1729e-04\n",
      "Epoch 46/250\n",
      " - 0s - loss: 1.3025e-04 - val_loss: 2.2405e-04\n",
      "Epoch 47/250\n",
      " - 0s - loss: 1.3574e-04 - val_loss: 1.7640e-04\n",
      "Epoch 48/250\n",
      " - 0s - loss: 1.0495e-04 - val_loss: 1.2509e-04\n",
      "Epoch 49/250\n",
      " - 0s - loss: 1.1710e-04 - val_loss: 8.5284e-05\n",
      "Epoch 50/250\n",
      " - 0s - loss: 1.1160e-04 - val_loss: 7.4562e-05\n",
      "Epoch 51/250\n",
      " - 0s - loss: 1.1610e-04 - val_loss: 6.1168e-05\n",
      "Epoch 52/250\n",
      " - 0s - loss: 1.2255e-04 - val_loss: 5.4269e-05\n",
      "Epoch 53/250\n",
      " - 0s - loss: 1.1058e-04 - val_loss: 5.1337e-05\n",
      "Epoch 54/250\n",
      " - 0s - loss: 1.0299e-04 - val_loss: 4.9987e-05\n",
      "Epoch 55/250\n",
      " - 0s - loss: 1.1230e-04 - val_loss: 5.1182e-05\n",
      "Epoch 56/250\n",
      " - 0s - loss: 9.4077e-05 - val_loss: 5.2895e-05\n",
      "Epoch 57/250\n",
      " - 0s - loss: 9.6433e-05 - val_loss: 5.2113e-05\n",
      "Epoch 58/250\n",
      " - 0s - loss: 9.4485e-05 - val_loss: 5.6343e-05\n",
      "Epoch 59/250\n",
      " - 0s - loss: 9.6972e-05 - val_loss: 6.1665e-05\n",
      "Epoch 60/250\n",
      " - 0s - loss: 9.3449e-05 - val_loss: 5.6227e-05\n",
      "Epoch 61/250\n",
      " - 0s - loss: 8.7600e-05 - val_loss: 5.8344e-05\n",
      "Epoch 62/250\n",
      " - 0s - loss: 8.5366e-05 - val_loss: 7.8624e-05\n",
      "Epoch 63/250\n",
      " - 0s - loss: 9.0427e-05 - val_loss: 6.8020e-05\n",
      "Epoch 64/250\n",
      " - 0s - loss: 8.7114e-05 - val_loss: 7.8552e-05\n",
      "Epoch 65/250\n",
      " - 0s - loss: 8.2389e-05 - val_loss: 6.4620e-05\n",
      "Epoch 66/250\n",
      " - 0s - loss: 7.5737e-05 - val_loss: 8.4426e-05\n",
      "Epoch 67/250\n",
      " - 0s - loss: 8.6678e-05 - val_loss: 6.2343e-05\n",
      "Epoch 68/250\n",
      " - 0s - loss: 7.9675e-05 - val_loss: 7.0650e-05\n",
      "Epoch 69/250\n",
      " - 0s - loss: 8.7147e-05 - val_loss: 7.8883e-05\n",
      "Epoch 70/250\n",
      " - 0s - loss: 6.9969e-05 - val_loss: 5.3089e-05\n",
      "Epoch 71/250\n",
      " - 0s - loss: 7.2100e-05 - val_loss: 9.0965e-05\n",
      "Epoch 72/250\n",
      " - 0s - loss: 7.1123e-05 - val_loss: 6.1026e-05\n",
      "Epoch 73/250\n",
      " - 0s - loss: 5.7324e-05 - val_loss: 5.1967e-05\n",
      "Epoch 74/250\n",
      " - 0s - loss: 7.0485e-05 - val_loss: 5.5549e-05\n",
      "Epoch 75/250\n",
      " - 0s - loss: 7.0436e-05 - val_loss: 4.9482e-05\n",
      "Epoch 76/250\n",
      " - 0s - loss: 6.9207e-05 - val_loss: 5.1900e-05\n",
      "Epoch 77/250\n",
      " - 0s - loss: 6.1843e-05 - val_loss: 6.5106e-05\n",
      "Epoch 78/250\n",
      " - 0s - loss: 6.8602e-05 - val_loss: 5.0715e-05\n",
      "Epoch 79/250\n",
      " - 0s - loss: 5.5898e-05 - val_loss: 6.3551e-05\n",
      "Epoch 80/250\n",
      " - 0s - loss: 6.2974e-05 - val_loss: 7.1238e-05\n",
      "Epoch 81/250\n",
      " - 0s - loss: 5.6129e-05 - val_loss: 4.9034e-05\n",
      "Epoch 82/250\n",
      " - 0s - loss: 5.9952e-05 - val_loss: 6.6256e-05\n",
      "Epoch 83/250\n",
      " - 0s - loss: 6.8289e-05 - val_loss: 5.9261e-05\n",
      "Epoch 84/250\n",
      " - 0s - loss: 5.9097e-05 - val_loss: 6.3710e-05\n",
      "Epoch 85/250\n",
      " - 0s - loss: 5.1822e-05 - val_loss: 6.5720e-05\n",
      "Epoch 86/250\n",
      " - 0s - loss: 5.0258e-05 - val_loss: 5.6261e-05\n",
      "Epoch 87/250\n",
      " - 0s - loss: 5.0126e-05 - val_loss: 6.2437e-05\n",
      "Epoch 88/250\n",
      " - 0s - loss: 5.1446e-05 - val_loss: 5.0690e-05\n",
      "Epoch 89/250\n",
      " - 0s - loss: 4.7857e-05 - val_loss: 5.7997e-05\n",
      "Epoch 90/250\n",
      " - 0s - loss: 5.2356e-05 - val_loss: 4.8788e-05\n",
      "Epoch 91/250\n",
      " - 0s - loss: 5.0357e-05 - val_loss: 4.9152e-05\n",
      "Epoch 92/250\n",
      " - 0s - loss: 4.7527e-05 - val_loss: 5.5595e-05\n",
      "Epoch 93/250\n",
      " - 0s - loss: 4.7720e-05 - val_loss: 4.8561e-05\n",
      "Epoch 94/250\n",
      " - 0s - loss: 4.7029e-05 - val_loss: 4.9509e-05\n",
      "Epoch 95/250\n",
      " - 0s - loss: 4.9362e-05 - val_loss: 5.5914e-05\n",
      "Epoch 96/250\n",
      " - 0s - loss: 4.7169e-05 - val_loss: 5.5963e-05\n",
      "Epoch 97/250\n",
      " - 0s - loss: 3.9540e-05 - val_loss: 4.9556e-05\n",
      "Epoch 98/250\n",
      " - 0s - loss: 4.4735e-05 - val_loss: 6.0806e-05\n",
      "Epoch 99/250\n",
      " - 0s - loss: 4.8608e-05 - val_loss: 5.3874e-05\n",
      "Epoch 100/250\n",
      " - 0s - loss: 4.3354e-05 - val_loss: 5.2800e-05\n",
      "Epoch 101/250\n",
      " - 0s - loss: 4.3046e-05 - val_loss: 5.4392e-05\n",
      "Epoch 102/250\n",
      " - 0s - loss: 3.5097e-05 - val_loss: 5.5505e-05\n",
      "Epoch 103/250\n",
      " - 0s - loss: 3.6235e-05 - val_loss: 5.4197e-05\n",
      "Epoch 104/250\n",
      " - 0s - loss: 3.9199e-05 - val_loss: 4.8609e-05\n",
      "Epoch 105/250\n",
      " - 0s - loss: 4.1033e-05 - val_loss: 5.0958e-05\n",
      "Epoch 106/250\n",
      " - 0s - loss: 3.8902e-05 - val_loss: 5.6007e-05\n",
      "Epoch 107/250\n",
      " - 0s - loss: 3.8525e-05 - val_loss: 4.8548e-05\n",
      "Epoch 108/250\n",
      " - 0s - loss: 3.8004e-05 - val_loss: 4.8620e-05\n",
      "Epoch 109/250\n",
      " - 0s - loss: 3.9528e-05 - val_loss: 5.1086e-05\n",
      "Epoch 110/250\n",
      " - 0s - loss: 4.0980e-05 - val_loss: 4.9038e-05\n",
      "Epoch 111/250\n",
      " - 0s - loss: 3.2440e-05 - val_loss: 4.9198e-05\n",
      "Epoch 112/250\n",
      " - 0s - loss: 3.6806e-05 - val_loss: 5.2094e-05\n",
      "Epoch 113/250\n",
      " - 0s - loss: 3.7628e-05 - val_loss: 5.0752e-05\n",
      "Epoch 114/250\n",
      " - 0s - loss: 3.7578e-05 - val_loss: 6.5704e-05\n",
      "Epoch 115/250\n",
      " - 0s - loss: 3.3742e-05 - val_loss: 6.5075e-05\n",
      "Epoch 116/250\n",
      " - 0s - loss: 3.4327e-05 - val_loss: 5.8541e-05\n",
      "Epoch 117/250\n",
      " - 0s - loss: 3.8158e-05 - val_loss: 5.6502e-05\n",
      "Epoch 118/250\n",
      " - 0s - loss: 3.2361e-05 - val_loss: 4.8614e-05\n",
      "Epoch 119/250\n",
      " - 0s - loss: 2.9794e-05 - val_loss: 5.0469e-05\n",
      "Epoch 120/250\n",
      " - 0s - loss: 3.1628e-05 - val_loss: 4.8427e-05\n",
      "Epoch 121/250\n",
      " - 0s - loss: 3.2677e-05 - val_loss: 5.6964e-05\n",
      "Epoch 122/250\n",
      " - 0s - loss: 3.5617e-05 - val_loss: 5.2760e-05\n",
      "Epoch 123/250\n",
      " - 0s - loss: 3.5452e-05 - val_loss: 5.1589e-05\n",
      "Epoch 124/250\n",
      " - 0s - loss: 3.1137e-05 - val_loss: 6.6041e-05\n",
      "Epoch 125/250\n",
      " - 0s - loss: 3.2923e-05 - val_loss: 5.2596e-05\n",
      "Epoch 126/250\n",
      " - 0s - loss: 3.1354e-05 - val_loss: 6.1040e-05\n",
      "Epoch 127/250\n",
      " - 0s - loss: 3.4444e-05 - val_loss: 6.0752e-05\n",
      "Epoch 128/250\n",
      " - 0s - loss: 3.3208e-05 - val_loss: 5.9188e-05\n",
      "Epoch 129/250\n",
      " - 0s - loss: 2.8561e-05 - val_loss: 6.3783e-05\n",
      "Epoch 130/250\n",
      " - 0s - loss: 2.9312e-05 - val_loss: 5.7475e-05\n",
      "Epoch 131/250\n",
      " - 0s - loss: 3.0227e-05 - val_loss: 5.5265e-05\n",
      "Epoch 132/250\n",
      " - 0s - loss: 2.6802e-05 - val_loss: 6.2205e-05\n",
      "Epoch 133/250\n",
      " - 0s - loss: 2.6417e-05 - val_loss: 5.2707e-05\n",
      "Epoch 134/250\n",
      " - 0s - loss: 2.9281e-05 - val_loss: 6.5947e-05\n",
      "Epoch 135/250\n",
      " - 0s - loss: 2.9146e-05 - val_loss: 7.3643e-05\n",
      "Epoch 136/250\n",
      " - 0s - loss: 2.6159e-05 - val_loss: 5.7481e-05\n"
     ]
    },
    {
     "name": "stdout",
     "output_type": "stream",
     "text": [
      "Epoch 137/250\n",
      " - 0s - loss: 2.9559e-05 - val_loss: 6.5401e-05\n",
      "Epoch 138/250\n",
      " - 0s - loss: 2.3928e-05 - val_loss: 6.0464e-05\n",
      "Epoch 139/250\n",
      " - 0s - loss: 3.0665e-05 - val_loss: 6.1200e-05\n",
      "Epoch 140/250\n",
      " - 0s - loss: 2.6384e-05 - val_loss: 6.7488e-05\n",
      "Epoch 141/250\n",
      " - 0s - loss: 2.6574e-05 - val_loss: 5.9855e-05\n",
      "Epoch 142/250\n",
      " - 0s - loss: 2.7720e-05 - val_loss: 7.0571e-05\n",
      "Epoch 143/250\n",
      " - 0s - loss: 2.7610e-05 - val_loss: 6.4864e-05\n",
      "Epoch 144/250\n",
      " - 0s - loss: 2.5118e-05 - val_loss: 5.6468e-05\n",
      "Epoch 145/250\n",
      " - 0s - loss: 2.8047e-05 - val_loss: 6.3828e-05\n",
      "Epoch 146/250\n",
      " - 0s - loss: 2.8833e-05 - val_loss: 5.3706e-05\n",
      "Epoch 147/250\n",
      " - 0s - loss: 2.5020e-05 - val_loss: 5.7195e-05\n",
      "Epoch 148/250\n",
      " - 0s - loss: 2.4797e-05 - val_loss: 5.5224e-05\n",
      "Epoch 149/250\n",
      " - 0s - loss: 3.0829e-05 - val_loss: 5.3780e-05\n",
      "Epoch 150/250\n",
      " - 0s - loss: 2.8523e-05 - val_loss: 5.5792e-05\n",
      "Epoch 151/250\n",
      " - 0s - loss: 2.9551e-05 - val_loss: 6.0208e-05\n",
      "Epoch 152/250\n",
      " - 0s - loss: 2.7163e-05 - val_loss: 5.5626e-05\n",
      "Epoch 153/250\n",
      " - 0s - loss: 2.3872e-05 - val_loss: 6.0849e-05\n",
      "Epoch 154/250\n",
      " - 0s - loss: 2.8897e-05 - val_loss: 6.8517e-05\n",
      "Epoch 155/250\n",
      " - 0s - loss: 2.5148e-05 - val_loss: 5.8074e-05\n",
      "Epoch 156/250\n",
      " - 0s - loss: 2.7501e-05 - val_loss: 5.7220e-05\n",
      "Epoch 157/250\n",
      " - 0s - loss: 2.6121e-05 - val_loss: 6.2732e-05\n",
      "Epoch 158/250\n",
      " - 0s - loss: 2.4977e-05 - val_loss: 6.6214e-05\n",
      "Epoch 159/250\n",
      " - 0s - loss: 2.1814e-05 - val_loss: 6.2947e-05\n",
      "Epoch 160/250\n",
      " - 0s - loss: 2.3569e-05 - val_loss: 6.2590e-05\n",
      "Epoch 161/250\n",
      " - 0s - loss: 2.5763e-05 - val_loss: 5.7533e-05\n",
      "Epoch 162/250\n",
      " - 0s - loss: 2.1991e-05 - val_loss: 6.4855e-05\n",
      "Epoch 163/250\n",
      " - 0s - loss: 2.2508e-05 - val_loss: 6.0711e-05\n",
      "Epoch 164/250\n",
      " - 0s - loss: 2.6112e-05 - val_loss: 6.6631e-05\n",
      "Epoch 165/250\n",
      " - 0s - loss: 2.3007e-05 - val_loss: 5.7970e-05\n",
      "Epoch 166/250\n",
      " - 0s - loss: 2.7221e-05 - val_loss: 5.5165e-05\n",
      "Epoch 167/250\n",
      " - 0s - loss: 2.4430e-05 - val_loss: 5.2312e-05\n",
      "Epoch 168/250\n",
      " - 0s - loss: 2.0477e-05 - val_loss: 5.1189e-05\n",
      "Epoch 169/250\n",
      " - 0s - loss: 2.2682e-05 - val_loss: 5.3414e-05\n",
      "Epoch 170/250\n",
      " - 0s - loss: 2.3038e-05 - val_loss: 5.0119e-05\n",
      "Epoch 171/250\n",
      " - 0s - loss: 2.4261e-05 - val_loss: 6.6014e-05\n",
      "Epoch 172/250\n",
      " - 0s - loss: 2.1311e-05 - val_loss: 5.2867e-05\n",
      "Epoch 173/250\n",
      " - 0s - loss: 2.4692e-05 - val_loss: 6.4381e-05\n",
      "Epoch 174/250\n",
      " - 0s - loss: 2.4314e-05 - val_loss: 5.5626e-05\n",
      "Epoch 175/250\n",
      " - 0s - loss: 2.2235e-05 - val_loss: 6.4595e-05\n",
      "Epoch 176/250\n",
      " - 0s - loss: 2.3035e-05 - val_loss: 5.7707e-05\n",
      "Epoch 177/250\n",
      " - 0s - loss: 2.4358e-05 - val_loss: 5.5717e-05\n",
      "Epoch 178/250\n",
      " - 0s - loss: 2.2116e-05 - val_loss: 5.9069e-05\n",
      "Epoch 179/250\n",
      " - 0s - loss: 2.2187e-05 - val_loss: 5.1353e-05\n",
      "Epoch 180/250\n",
      " - 0s - loss: 1.9387e-05 - val_loss: 5.9191e-05\n",
      "Epoch 181/250\n",
      " - 0s - loss: 2.2392e-05 - val_loss: 5.3492e-05\n",
      "Epoch 182/250\n",
      " - 0s - loss: 2.0375e-05 - val_loss: 6.1054e-05\n",
      "Epoch 183/250\n",
      " - 0s - loss: 2.3480e-05 - val_loss: 5.6565e-05\n",
      "Epoch 184/250\n",
      " - 0s - loss: 2.0957e-05 - val_loss: 6.2783e-05\n",
      "Epoch 185/250\n",
      " - 0s - loss: 2.2663e-05 - val_loss: 5.2492e-05\n",
      "Epoch 186/250\n",
      " - 0s - loss: 2.0341e-05 - val_loss: 5.6616e-05\n",
      "Epoch 187/250\n",
      " - 0s - loss: 2.1178e-05 - val_loss: 5.3846e-05\n",
      "Epoch 188/250\n",
      " - 0s - loss: 1.9716e-05 - val_loss: 5.4654e-05\n",
      "Epoch 189/250\n",
      " - 0s - loss: 1.9084e-05 - val_loss: 6.1371e-05\n",
      "Epoch 190/250\n",
      " - 0s - loss: 2.3255e-05 - val_loss: 5.1210e-05\n",
      "Epoch 191/250\n",
      " - 0s - loss: 2.1147e-05 - val_loss: 5.5937e-05\n",
      "Epoch 192/250\n",
      " - 0s - loss: 2.1826e-05 - val_loss: 5.1806e-05\n",
      "Epoch 193/250\n",
      " - 0s - loss: 2.0586e-05 - val_loss: 5.6839e-05\n",
      "Epoch 194/250\n",
      " - 0s - loss: 2.2044e-05 - val_loss: 5.0592e-05\n",
      "Epoch 195/250\n",
      " - 0s - loss: 2.3277e-05 - val_loss: 5.3235e-05\n",
      "Epoch 196/250\n",
      " - 0s - loss: 2.4557e-05 - val_loss: 5.2422e-05\n",
      "Epoch 197/250\n",
      " - 0s - loss: 2.0679e-05 - val_loss: 5.0815e-05\n",
      "Epoch 198/250\n",
      " - 0s - loss: 2.2811e-05 - val_loss: 5.6267e-05\n",
      "Epoch 199/250\n",
      " - 0s - loss: 1.9387e-05 - val_loss: 5.3300e-05\n",
      "Epoch 200/250\n",
      " - 0s - loss: 2.0843e-05 - val_loss: 5.2199e-05\n",
      "Epoch 201/250\n",
      " - 0s - loss: 2.3706e-05 - val_loss: 5.7921e-05\n",
      "Epoch 202/250\n",
      " - 0s - loss: 2.2855e-05 - val_loss: 5.2848e-05\n",
      "Epoch 203/250\n",
      " - 0s - loss: 2.0312e-05 - val_loss: 5.3502e-05\n",
      "Epoch 204/250\n",
      " - 0s - loss: 2.0832e-05 - val_loss: 5.5491e-05\n",
      "Epoch 205/250\n",
      " - 0s - loss: 2.0016e-05 - val_loss: 5.4078e-05\n",
      "Epoch 206/250\n",
      " - 0s - loss: 2.1233e-05 - val_loss: 5.3871e-05\n",
      "Epoch 207/250\n",
      " - 0s - loss: 2.0531e-05 - val_loss: 5.2329e-05\n",
      "Epoch 208/250\n",
      " - 0s - loss: 1.7362e-05 - val_loss: 4.8226e-05\n",
      "Epoch 209/250\n",
      " - 0s - loss: 2.0214e-05 - val_loss: 5.2096e-05\n",
      "Epoch 210/250\n",
      " - 0s - loss: 2.2786e-05 - val_loss: 4.9602e-05\n",
      "Epoch 211/250\n",
      " - 0s - loss: 2.0001e-05 - val_loss: 6.0244e-05\n",
      "Epoch 212/250\n",
      " - 0s - loss: 1.9709e-05 - val_loss: 6.0048e-05\n",
      "Epoch 213/250\n",
      " - 0s - loss: 1.9367e-05 - val_loss: 6.4335e-05\n",
      "Epoch 214/250\n",
      " - 0s - loss: 2.0631e-05 - val_loss: 7.0799e-05\n",
      "Epoch 215/250\n",
      " - 0s - loss: 2.0168e-05 - val_loss: 6.1499e-05\n",
      "Epoch 216/250\n",
      " - 0s - loss: 2.1865e-05 - val_loss: 5.7833e-05\n",
      "Epoch 217/250\n",
      " - 0s - loss: 1.8826e-05 - val_loss: 5.7151e-05\n",
      "Epoch 218/250\n",
      " - 0s - loss: 1.8656e-05 - val_loss: 5.6064e-05\n",
      "Epoch 219/250\n",
      " - 0s - loss: 1.9930e-05 - val_loss: 5.5554e-05\n",
      "Epoch 220/250\n",
      " - 0s - loss: 1.8601e-05 - val_loss: 5.0267e-05\n",
      "Epoch 221/250\n",
      " - 0s - loss: 1.9248e-05 - val_loss: 5.7988e-05\n",
      "Epoch 222/250\n",
      " - 0s - loss: 2.2564e-05 - val_loss: 4.8522e-05\n",
      "Epoch 223/250\n",
      " - 0s - loss: 2.0699e-05 - val_loss: 5.3511e-05\n",
      "Epoch 224/250\n",
      " - 0s - loss: 1.7535e-05 - val_loss: 5.7197e-05\n",
      "Epoch 225/250\n",
      " - 0s - loss: 2.0201e-05 - val_loss: 5.5098e-05\n",
      "Epoch 226/250\n",
      " - 0s - loss: 1.8951e-05 - val_loss: 6.7381e-05\n",
      "Epoch 227/250\n",
      " - 0s - loss: 1.9586e-05 - val_loss: 6.3023e-05\n",
      "Epoch 228/250\n",
      " - 0s - loss: 1.9076e-05 - val_loss: 6.8174e-05\n",
      "Epoch 229/250\n",
      " - 0s - loss: 2.3424e-05 - val_loss: 7.1100e-05\n",
      "Epoch 230/250\n",
      " - 0s - loss: 1.9999e-05 - val_loss: 6.7819e-05\n",
      "Epoch 231/250\n",
      " - 0s - loss: 1.8376e-05 - val_loss: 6.9490e-05\n",
      "Epoch 232/250\n",
      " - 0s - loss: 1.7882e-05 - val_loss: 7.3927e-05\n",
      "Epoch 233/250\n",
      " - 0s - loss: 2.0553e-05 - val_loss: 6.4449e-05\n",
      "Epoch 234/250\n",
      " - 0s - loss: 2.0926e-05 - val_loss: 5.9024e-05\n",
      "Epoch 235/250\n",
      " - 0s - loss: 1.7882e-05 - val_loss: 5.7032e-05\n",
      "Epoch 236/250\n",
      " - 0s - loss: 1.8114e-05 - val_loss: 5.5506e-05\n",
      "Epoch 237/250\n",
      " - 0s - loss: 2.1358e-05 - val_loss: 5.1077e-05\n",
      "Epoch 238/250\n",
      " - 0s - loss: 2.1352e-05 - val_loss: 5.2217e-05\n",
      "Epoch 239/250\n",
      " - 0s - loss: 1.9604e-05 - val_loss: 5.5605e-05\n",
      "Epoch 240/250\n",
      " - 0s - loss: 1.7755e-05 - val_loss: 6.1736e-05\n",
      "Epoch 241/250\n",
      " - 0s - loss: 2.0119e-05 - val_loss: 6.6169e-05\n",
      "Epoch 242/250\n",
      " - 0s - loss: 1.8400e-05 - val_loss: 6.6834e-05\n",
      "Epoch 243/250\n",
      " - 0s - loss: 2.0955e-05 - val_loss: 6.9414e-05\n",
      "Epoch 244/250\n",
      " - 0s - loss: 1.8801e-05 - val_loss: 6.8779e-05\n",
      "Epoch 245/250\n",
      " - 0s - loss: 1.9887e-05 - val_loss: 6.1178e-05\n",
      "Epoch 246/250\n",
      " - 0s - loss: 1.6779e-05 - val_loss: 6.1723e-05\n",
      "Epoch 247/250\n",
      " - 0s - loss: 1.8441e-05 - val_loss: 5.0707e-05\n",
      "Epoch 248/250\n",
      " - 0s - loss: 1.8665e-05 - val_loss: 5.4522e-05\n",
      "Epoch 249/250\n",
      " - 0s - loss: 1.8611e-05 - val_loss: 4.7945e-05\n",
      "Epoch 250/250\n",
      " - 0s - loss: 1.7634e-05 - val_loss: 5.5574e-05\n"
     ]
    },
    {
     "data": {
      "image/png": "[encoded data removed]",
      "text/plain": [
       "<Figure size 432x288 with 1 Axes>"
      ]
     },
     "metadata": {
      "needs_background": "light"
     },
     "output_type": "display_data"
    },
    {
     "name": "stdout",
     "output_type": "stream",
     "text": [
      "Test RMSE: 4.92250\n"
     ]
    }
   ],
   "source": [
    "model = Sequential()\n",
    "model.add(LSTM(100, input_shape=(train_X.shape[1], train_X.shape[2])))\n",
    "model.add(Dropout(0.2))\n",
    "#model.add(LSTM(70))\n",
    "#model.add(Dropout(0.3))\n",
    "model.add(Dense(1))\n",
    "model.compile(loss='mean_squared_error', optimizer='adam')\n",
    "\n",
    "\n",
    "\n",
    "# fit network\n",
    "history = model.fit(train_X, train_y, epochs=250, batch_size=70, validation_data=(test_X, test_y), verbose=2, shuffle=False)\n",
    "\n",
    "# summarize history for loss\n",
    "plt.plot(history.history['loss'])\n",
    "plt.plot(history.history['val_loss'])\n",
    "plt.title('model loss')\n",
    "plt.ylabel('loss')\n",
    "plt.xlabel('epoch')\n",
    "plt.legend(['train', 'test'], loc='upper right')\n",
    "plt.show()\n",
    "\n",
    "# make a prediction\n",
    "yhat = model.predict(test_X)\n",
    "test_X = test_X.reshape((test_X.shape[0], 7))\n",
    "# invert scaling for forecast\n",
    "inv_yhat = np.concatenate((yhat, test_X[:, -6:]), axis=1)\n",
    "inv_yhat = scaler.inverse_transform(inv_yhat)\n",
    "inv_yhat = inv_yhat[:,0]\n",
    "# invert scaling for actual\n",
    "test_y = test_y.reshape((len(test_y), 1))\n",
    "inv_y = np.concatenate((test_y, test_X[:, -6:]), axis=1)\n",
    "inv_y = scaler.inverse_transform(inv_y)\n",
    "inv_y = inv_y[:,0]\n",
    "# calculate RMSE\n",
    "rmse = np.sqrt(mean_squared_error(inv_y, inv_yhat))\n",
    "print('Test RMSE: %.5f' % rmse)"
   ]
  },
  {
   "cell_type": "code",
   "execution_count": 28,
   "metadata": {},
   "outputs": [
    {
     "data": {
      "image/png": "[encoded data removed]",
      "text/plain": [
       "<Figure size 1296x504 with 1 Axes>"
      ]
     },
     "metadata": {
      "needs_background": "light"
     },
     "output_type": "display_data"
    }
   ],
   "source": [
    "## time steps, every step is one hour (you can easily convert the time step to the actual time index)\n",
    "## for a demonstration purpose, I only compare the predictions in 200 hours. \n",
    "\n",
    "aa=[x for x in range(200)]\n",
    "plt.figure(figsize = (18,7))\n",
    "plt.plot(aa, inv_y[:200], marker='.', label=\"actual\")\n",
    "plt.plot(aa, inv_yhat[:200], 'r', label=\"prediction\")\n",
    "plt.ylabel('Close', size=15)\n",
    "plt.xlabel('Time step', size=15)\n",
    "plt.legend(fontsize=15)\n",
    "plt.show()"
   ]
  },
  {
   "cell_type": "code",
   "execution_count": null,
   "metadata": {},
   "outputs": [],
   "source": []
  },
  {
   "cell_type": "code",
   "execution_count": null,
   "metadata": {},
   "outputs": [],
   "source": []
  },
  {
   "cell_type": "code",
   "execution_count": null,
   "metadata": {},
   "outputs": [],
   "source": []
  },
  {
   "cell_type": "code",
   "execution_count": null,
   "metadata": {},
   "outputs": [],
   "source": []
  },
  {
   "cell_type": "code",
   "execution_count": null,
   "metadata": {},
   "outputs": [],
   "source": []
  },
  {
   "cell_type": "code",
   "execution_count": null,
   "metadata": {},
   "outputs": [],
   "source": []
  },
  {
   "cell_type": "code",
   "execution_count": null,
   "metadata": {},
   "outputs": [],
   "source": []
  },
  {
   "cell_type": "code",
   "execution_count": null,
   "metadata": {},
   "outputs": [],
   "source": []
  },
  {
   "cell_type": "code",
   "execution_count": null,
   "metadata": {},
   "outputs": [],
   "source": [
    "### Now let's see what sort of data we have. You want data with various patterns occurring over time."
   ]
  },
  {
   "cell_type": "code",
   "execution_count": 13,
   "metadata": {},
   "outputs": [
    {
     "data": {
      "image/png": "[encoded data removed]",
      "text/plain": [
       "<Figure size 1296x648 with 1 Axes>"
      ]
     },
     "metadata": {
      "needs_background": "light"
     },
     "output_type": "display_data"
    }
   ],
   "source": [
    "plt.figure(figsize = (18,9))\n",
    "plt.plot(range(ONGC.shape[0]),(ONGC['Low Price']+ONGC['High Price'])/2.0)\n",
    "plt.xticks(range(0,ONGC.shape[0],200),ONGC['Date'].loc[::200],rotation=45)\n",
    "plt.xlabel('Date',fontsize=18)\n",
    "plt.ylabel('Mid Price',fontsize=18)\n",
    "plt.show()"
   ]
  },
  {
   "cell_type": "markdown",
   "metadata": {},
   "source": [
    "### 2. ITC Ltd - Adjusted Pricing"
   ]
  },
  {
   "cell_type": "code",
   "execution_count": 30,
   "metadata": {
    "scrolled": true
   },
   "outputs": [],
   "source": [
    "ITC = quandl.get(\"TC1/ITC\", authtoken=\"gmN2xKGChq4zRr3b7wNm\")\n",
    "\n",
    "ITC.reset_index(inplace = True)"
   ]
  },
  {
   "cell_type": "code",
   "execution_count": 29,
   "metadata": {},
   "outputs": [
    {
     "data": {
      "text/html": [
       "<div>\n",
       "<style scoped>\n",
       "    .dataframe tbody tr th:only-of-type {\n",
       "        vertical-align: middle;\n",
       "    }\n",
       "\n",
       "    .dataframe tbody tr th {\n",
       "        vertical-align: top;\n",
       "    }\n",
       "\n",
       "    .dataframe thead th {\n",
       "        text-align: right;\n",
       "    }\n",
       "</style>\n",
       "<table border=\"1\" class=\"dataframe\">\n",
       "  <thead>\n",
       "    <tr style=\"text-align: right;\">\n",
       "      <th></th>\n",
       "      <th>Date</th>\n",
       "      <th>Open Price</th>\n",
       "      <th>High Price</th>\n",
       "      <th>Low Price</th>\n",
       "      <th>Last Traded Price</th>\n",
       "      <th>Close Price</th>\n",
       "      <th>Total Traded Quantity</th>\n",
       "      <th>Turnover (in Lakhs)</th>\n",
       "    </tr>\n",
       "  </thead>\n",
       "  <tbody>\n",
       "    <tr>\n",
       "      <th>2743</th>\n",
       "      <td>2010-12-27</td>\n",
       "      <td>102.93</td>\n",
       "      <td>103.84</td>\n",
       "      <td>102.51</td>\n",
       "      <td>102.72</td>\n",
       "      <td>102.93</td>\n",
       "      <td>7613802.78</td>\n",
       "      <td>7867.57</td>\n",
       "    </tr>\n",
       "    <tr>\n",
       "      <th>2744</th>\n",
       "      <td>2010-12-28</td>\n",
       "      <td>102.93</td>\n",
       "      <td>104.17</td>\n",
       "      <td>102.93</td>\n",
       "      <td>103.84</td>\n",
       "      <td>103.81</td>\n",
       "      <td>4743778.16</td>\n",
       "      <td>4909.96</td>\n",
       "    </tr>\n",
       "    <tr>\n",
       "      <th>2745</th>\n",
       "      <td>2010-12-29</td>\n",
       "      <td>103.81</td>\n",
       "      <td>105.87</td>\n",
       "      <td>103.79</td>\n",
       "      <td>105.33</td>\n",
       "      <td>105.63</td>\n",
       "      <td>11226425.45</td>\n",
       "      <td>11784.04</td>\n",
       "    </tr>\n",
       "    <tr>\n",
       "      <th>2746</th>\n",
       "      <td>2010-12-30</td>\n",
       "      <td>105.09</td>\n",
       "      <td>106.93</td>\n",
       "      <td>104.69</td>\n",
       "      <td>105.14</td>\n",
       "      <td>105.84</td>\n",
       "      <td>32428776.47</td>\n",
       "      <td>34415.30</td>\n",
       "    </tr>\n",
       "    <tr>\n",
       "      <th>2747</th>\n",
       "      <td>2010-12-31</td>\n",
       "      <td>105.42</td>\n",
       "      <td>106.69</td>\n",
       "      <td>105.29</td>\n",
       "      <td>106.12</td>\n",
       "      <td>105.90</td>\n",
       "      <td>11445904.91</td>\n",
       "      <td>12130.63</td>\n",
       "    </tr>\n",
       "  </tbody>\n",
       "</table>\n",
       "</div>"
      ],
      "text/plain": [
       "           Date  Open Price  High Price  Low Price  Last Traded Price  \\\n",
       "2743 2010-12-27      102.93      103.84     102.51             102.72   \n",
       "2744 2010-12-28      102.93      104.17     102.93             103.84   \n",
       "2745 2010-12-29      103.81      105.87     103.79             105.33   \n",
       "2746 2010-12-30      105.09      106.93     104.69             105.14   \n",
       "2747 2010-12-31      105.42      106.69     105.29             106.12   \n",
       "\n",
       "      Close Price  Total Traded Quantity  Turnover (in Lakhs)  \n",
       "2743       102.93             7613802.78              7867.57  \n",
       "2744       103.81             4743778.16              4909.96  \n",
       "2745       105.63            11226425.45             11784.04  \n",
       "2746       105.84            32428776.47             34415.30  \n",
       "2747       105.90            11445904.91             12130.63  "
      ]
     },
     "execution_count": 29,
     "metadata": {},
     "output_type": "execute_result"
    }
   ],
   "source": [
    "ITC.head()"
   ]
  },
  {
   "cell_type": "code",
   "execution_count": 8,
   "metadata": {},
   "outputs": [],
   "source": [
    "ITC.tail()"
   ]
  },
  {
   "cell_type": "markdown",
   "metadata": {},
   "source": [
    "### 3. Hindustan Unilever Ltd - Adjusted Pricing"
   ]
  },
  {
   "cell_type": "code",
   "execution_count": 7,
   "metadata": {},
   "outputs": [
    {
     "data": {
      "text/html": [
       "<div>\n",
       "<style scoped>\n",
       "    .dataframe tbody tr th:only-of-type {\n",
       "        vertical-align: middle;\n",
       "    }\n",
       "\n",
       "    .dataframe tbody tr th {\n",
       "        vertical-align: top;\n",
       "    }\n",
       "\n",
       "    .dataframe thead th {\n",
       "        text-align: right;\n",
       "    }\n",
       "</style>\n",
       "<table border=\"1\" class=\"dataframe\">\n",
       "  <thead>\n",
       "    <tr style=\"text-align: right;\">\n",
       "      <th></th>\n",
       "      <th>Open Price</th>\n",
       "      <th>High Price</th>\n",
       "      <th>Low Price</th>\n",
       "      <th>Last Traded Price</th>\n",
       "      <th>Close Price</th>\n",
       "      <th>Total Traded Quantity</th>\n",
       "      <th>Turnover (in Lakhs)</th>\n",
       "    </tr>\n",
       "    <tr>\n",
       "      <th>Date</th>\n",
       "      <th></th>\n",
       "      <th></th>\n",
       "      <th></th>\n",
       "      <th></th>\n",
       "      <th></th>\n",
       "      <th></th>\n",
       "      <th></th>\n",
       "    </tr>\n",
       "  </thead>\n",
       "  <tbody>\n",
       "    <tr>\n",
       "      <th>2000-01-03</th>\n",
       "      <td>149.90</td>\n",
       "      <td>150.38</td>\n",
       "      <td>149.90</td>\n",
       "      <td>150.38</td>\n",
       "      <td>150.38</td>\n",
       "      <td>382114.10</td>\n",
       "      <td>574.53</td>\n",
       "    </tr>\n",
       "    <tr>\n",
       "      <th>2000-01-04</th>\n",
       "      <td>155.17</td>\n",
       "      <td>155.17</td>\n",
       "      <td>146.64</td>\n",
       "      <td>147.94</td>\n",
       "      <td>148.66</td>\n",
       "      <td>897844.63</td>\n",
       "      <td>1344.74</td>\n",
       "    </tr>\n",
       "    <tr>\n",
       "      <th>2000-01-05</th>\n",
       "      <td>143.38</td>\n",
       "      <td>146.64</td>\n",
       "      <td>137.18</td>\n",
       "      <td>142.30</td>\n",
       "      <td>143.37</td>\n",
       "      <td>1232069.80</td>\n",
       "      <td>1775.48</td>\n",
       "    </tr>\n",
       "    <tr>\n",
       "      <th>2000-01-06</th>\n",
       "      <td>145.00</td>\n",
       "      <td>153.81</td>\n",
       "      <td>144.03</td>\n",
       "      <td>149.90</td>\n",
       "      <td>149.12</td>\n",
       "      <td>2915869.89</td>\n",
       "      <td>4374.16</td>\n",
       "    </tr>\n",
       "    <tr>\n",
       "      <th>2000-01-07</th>\n",
       "      <td>149.90</td>\n",
       "      <td>159.80</td>\n",
       "      <td>148.74</td>\n",
       "      <td>156.09</td>\n",
       "      <td>157.26</td>\n",
       "      <td>2954997.35</td>\n",
       "      <td>4583.92</td>\n",
       "    </tr>\n",
       "  </tbody>\n",
       "</table>\n",
       "</div>"
      ],
      "text/plain": [
       "            Open Price  High Price  Low Price  Last Traded Price  Close Price  \\\n",
       "Date                                                                            \n",
       "2000-01-03      149.90      150.38     149.90             150.38       150.38   \n",
       "2000-01-04      155.17      155.17     146.64             147.94       148.66   \n",
       "2000-01-05      143.38      146.64     137.18             142.30       143.37   \n",
       "2000-01-06      145.00      153.81     144.03             149.90       149.12   \n",
       "2000-01-07      149.90      159.80     148.74             156.09       157.26   \n",
       "\n",
       "            Total Traded Quantity  Turnover (in Lakhs)  \n",
       "Date                                                    \n",
       "2000-01-03              382114.10               574.53  \n",
       "2000-01-04              897844.63              1344.74  \n",
       "2000-01-05             1232069.80              1775.48  \n",
       "2000-01-06             2915869.89              4374.16  \n",
       "2000-01-07             2954997.35              4583.92  "
      ]
     },
     "execution_count": 7,
     "metadata": {},
     "output_type": "execute_result"
    }
   ],
   "source": [
    "HINDUNILVR = quandl.get(\"TC1/HINDUNILVR\", authtoken=\"gmN2xKGChq4zRr3b7wNm\")\n",
    "\n",
    "HINDUNILVR.head()"
   ]
  },
  {
   "cell_type": "code",
   "execution_count": 9,
   "metadata": {},
   "outputs": [],
   "source": [
    "HINDUNILVR.reset_index(inplace = True)"
   ]
  },
  {
   "cell_type": "markdown",
   "metadata": {},
   "source": [
    "### 4. HDFC Bank Ltd - Adjusted Pricing"
   ]
  },
  {
   "cell_type": "code",
   "execution_count": 11,
   "metadata": {},
   "outputs": [
    {
     "data": {
      "text/html": [
       "<div>\n",
       "<style scoped>\n",
       "    .dataframe tbody tr th:only-of-type {\n",
       "        vertical-align: middle;\n",
       "    }\n",
       "\n",
       "    .dataframe tbody tr th {\n",
       "        vertical-align: top;\n",
       "    }\n",
       "\n",
       "    .dataframe thead th {\n",
       "        text-align: right;\n",
       "    }\n",
       "</style>\n",
       "<table border=\"1\" class=\"dataframe\">\n",
       "  <thead>\n",
       "    <tr style=\"text-align: right;\">\n",
       "      <th></th>\n",
       "      <th>Open Price</th>\n",
       "      <th>High Price</th>\n",
       "      <th>Low Price</th>\n",
       "      <th>Last Traded Price</th>\n",
       "      <th>Close Price</th>\n",
       "      <th>Total Traded Quantity</th>\n",
       "      <th>Turnover (in Lakhs)</th>\n",
       "    </tr>\n",
       "    <tr>\n",
       "      <th>Date</th>\n",
       "      <th></th>\n",
       "      <th></th>\n",
       "      <th></th>\n",
       "      <th></th>\n",
       "      <th></th>\n",
       "      <th></th>\n",
       "      <th></th>\n",
       "    </tr>\n",
       "  </thead>\n",
       "  <tbody>\n",
       "    <tr>\n",
       "      <th>2000-01-03</th>\n",
       "      <td>29.44</td>\n",
       "      <td>30.14</td>\n",
       "      <td>29.44</td>\n",
       "      <td>30.14</td>\n",
       "      <td>30.14</td>\n",
       "      <td>187563.22</td>\n",
       "      <td>56.38</td>\n",
       "    </tr>\n",
       "    <tr>\n",
       "      <th>2000-01-04</th>\n",
       "      <td>32.28</td>\n",
       "      <td>32.53</td>\n",
       "      <td>30.32</td>\n",
       "      <td>30.86</td>\n",
       "      <td>30.82</td>\n",
       "      <td>951435.41</td>\n",
       "      <td>295.23</td>\n",
       "    </tr>\n",
       "    <tr>\n",
       "      <th>2000-01-05</th>\n",
       "      <td>30.14</td>\n",
       "      <td>30.84</td>\n",
       "      <td>29.26</td>\n",
       "      <td>29.79</td>\n",
       "      <td>29.61</td>\n",
       "      <td>901300.50</td>\n",
       "      <td>270.41</td>\n",
       "    </tr>\n",
       "    <tr>\n",
       "      <th>2000-01-06</th>\n",
       "      <td>29.79</td>\n",
       "      <td>30.14</td>\n",
       "      <td>29.31</td>\n",
       "      <td>29.95</td>\n",
       "      <td>29.85</td>\n",
       "      <td>479501.79</td>\n",
       "      <td>143.22</td>\n",
       "    </tr>\n",
       "    <tr>\n",
       "      <th>2000-01-07</th>\n",
       "      <td>28.75</td>\n",
       "      <td>30.32</td>\n",
       "      <td>28.75</td>\n",
       "      <td>30.28</td>\n",
       "      <td>29.86</td>\n",
       "      <td>480167.25</td>\n",
       "      <td>142.02</td>\n",
       "    </tr>\n",
       "  </tbody>\n",
       "</table>\n",
       "</div>"
      ],
      "text/plain": [
       "            Open Price  High Price  Low Price  Last Traded Price  Close Price  \\\n",
       "Date                                                                            \n",
       "2000-01-03       29.44       30.14      29.44              30.14        30.14   \n",
       "2000-01-04       32.28       32.53      30.32              30.86        30.82   \n",
       "2000-01-05       30.14       30.84      29.26              29.79        29.61   \n",
       "2000-01-06       29.79       30.14      29.31              29.95        29.85   \n",
       "2000-01-07       28.75       30.32      28.75              30.28        29.86   \n",
       "\n",
       "            Total Traded Quantity  Turnover (in Lakhs)  \n",
       "Date                                                    \n",
       "2000-01-03              187563.22                56.38  \n",
       "2000-01-04              951435.41               295.23  \n",
       "2000-01-05              901300.50               270.41  \n",
       "2000-01-06              479501.79               143.22  \n",
       "2000-01-07              480167.25               142.02  "
      ]
     },
     "execution_count": 11,
     "metadata": {},
     "output_type": "execute_result"
    }
   ],
   "source": [
    "HDFCBANK = quandl.get(\"TC1/HDFCBANK\", authtoken=\"gmN2xKGChq4zRr3b7wNm\")\n",
    "\n",
    "HDFCBANK.head()"
   ]
  },
  {
   "cell_type": "code",
   "execution_count": 23,
   "metadata": {},
   "outputs": [],
   "source": [
    "HDFCBANK.reset_index(inplace = True)"
   ]
  },
  {
   "cell_type": "markdown",
   "metadata": {},
   "source": [
    "### 5. Sun Pharmaceutical Industries Ltd - Adjusted Pricing"
   ]
  },
  {
   "cell_type": "code",
   "execution_count": 16,
   "metadata": {
    "scrolled": true
   },
   "outputs": [],
   "source": [
    "SUNPHARMA = quandl.get(\"TC1/SUNPHARMA\", authtoken=\"gmN2xKGChq4zRr3b7wNm\")"
   ]
  },
  {
   "cell_type": "code",
   "execution_count": 14,
   "metadata": {},
   "outputs": [],
   "source": [
    "SUNPHARMA.reset_index(inplace = True)"
   ]
  },
  {
   "cell_type": "code",
   "execution_count": 15,
   "metadata": {},
   "outputs": [
    {
     "data": {
      "text/html": [
       "<div>\n",
       "<style scoped>\n",
       "    .dataframe tbody tr th:only-of-type {\n",
       "        vertical-align: middle;\n",
       "    }\n",
       "\n",
       "    .dataframe tbody tr th {\n",
       "        vertical-align: top;\n",
       "    }\n",
       "\n",
       "    .dataframe thead th {\n",
       "        text-align: right;\n",
       "    }\n",
       "</style>\n",
       "<table border=\"1\" class=\"dataframe\">\n",
       "  <thead>\n",
       "    <tr style=\"text-align: right;\">\n",
       "      <th></th>\n",
       "      <th>Date</th>\n",
       "      <th>Open Price</th>\n",
       "      <th>High Price</th>\n",
       "      <th>Low Price</th>\n",
       "      <th>Last Traded Price</th>\n",
       "      <th>Close Price</th>\n",
       "      <th>Total Traded Quantity</th>\n",
       "      <th>Turnover (in Lakhs)</th>\n",
       "    </tr>\n",
       "  </thead>\n",
       "  <tbody>\n",
       "    <tr>\n",
       "      <th>0</th>\n",
       "      <td>2000-01-03</td>\n",
       "      <td>12.56</td>\n",
       "      <td>12.81</td>\n",
       "      <td>12.28</td>\n",
       "      <td>12.81</td>\n",
       "      <td>12.81</td>\n",
       "      <td>433286.97</td>\n",
       "      <td>55.22</td>\n",
       "    </tr>\n",
       "    <tr>\n",
       "      <th>1</th>\n",
       "      <td>2000-01-04</td>\n",
       "      <td>13.68</td>\n",
       "      <td>13.68</td>\n",
       "      <td>12.30</td>\n",
       "      <td>12.64</td>\n",
       "      <td>12.64</td>\n",
       "      <td>829177.15</td>\n",
       "      <td>104.51</td>\n",
       "    </tr>\n",
       "    <tr>\n",
       "      <th>2</th>\n",
       "      <td>2000-01-05</td>\n",
       "      <td>12.88</td>\n",
       "      <td>12.88</td>\n",
       "      <td>12.14</td>\n",
       "      <td>12.18</td>\n",
       "      <td>12.19</td>\n",
       "      <td>874741.06</td>\n",
       "      <td>107.86</td>\n",
       "    </tr>\n",
       "    <tr>\n",
       "      <th>3</th>\n",
       "      <td>2000-01-06</td>\n",
       "      <td>12.21</td>\n",
       "      <td>12.53</td>\n",
       "      <td>12.11</td>\n",
       "      <td>12.20</td>\n",
       "      <td>12.18</td>\n",
       "      <td>497477.64</td>\n",
       "      <td>60.74</td>\n",
       "    </tr>\n",
       "    <tr>\n",
       "      <th>4</th>\n",
       "      <td>2000-01-07</td>\n",
       "      <td>11.90</td>\n",
       "      <td>11.90</td>\n",
       "      <td>11.21</td>\n",
       "      <td>11.21</td>\n",
       "      <td>11.21</td>\n",
       "      <td>591041.26</td>\n",
       "      <td>66.89</td>\n",
       "    </tr>\n",
       "  </tbody>\n",
       "</table>\n",
       "</div>"
      ],
      "text/plain": [
       "        Date  Open Price  High Price  Low Price  Last Traded Price  \\\n",
       "0 2000-01-03       12.56       12.81      12.28              12.81   \n",
       "1 2000-01-04       13.68       13.68      12.30              12.64   \n",
       "2 2000-01-05       12.88       12.88      12.14              12.18   \n",
       "3 2000-01-06       12.21       12.53      12.11              12.20   \n",
       "4 2000-01-07       11.90       11.90      11.21              11.21   \n",
       "\n",
       "   Close Price  Total Traded Quantity  Turnover (in Lakhs)  \n",
       "0        12.81              433286.97                55.22  \n",
       "1        12.64              829177.15               104.51  \n",
       "2        12.19              874741.06               107.86  \n",
       "3        12.18              497477.64                60.74  \n",
       "4        11.21              591041.26                66.89  "
      ]
     },
     "execution_count": 15,
     "metadata": {},
     "output_type": "execute_result"
    }
   ],
   "source": [
    "SUNPHARMA.head()"
   ]
  },
  {
   "cell_type": "code",
   "execution_count": 17,
   "metadata": {},
   "outputs": [
    {
     "data": {
      "text/plain": [
       "(2748, 7)"
      ]
     },
     "execution_count": 17,
     "metadata": {},
     "output_type": "execute_result"
    }
   ],
   "source": [
    "SUNPHARMA.shape"
   ]
  },
  {
   "cell_type": "code",
   "execution_count": 18,
   "metadata": {},
   "outputs": [
    {
     "data": {
      "text/html": [
       "<div>\n",
       "<style scoped>\n",
       "    .dataframe tbody tr th:only-of-type {\n",
       "        vertical-align: middle;\n",
       "    }\n",
       "\n",
       "    .dataframe tbody tr th {\n",
       "        vertical-align: top;\n",
       "    }\n",
       "\n",
       "    .dataframe thead th {\n",
       "        text-align: right;\n",
       "    }\n",
       "</style>\n",
       "<table border=\"1\" class=\"dataframe\">\n",
       "  <thead>\n",
       "    <tr style=\"text-align: right;\">\n",
       "      <th></th>\n",
       "      <th>Open Price</th>\n",
       "      <th>High Price</th>\n",
       "      <th>Low Price</th>\n",
       "      <th>Last Traded Price</th>\n",
       "      <th>Close Price</th>\n",
       "      <th>Total Traded Quantity</th>\n",
       "      <th>Turnover (in Lakhs)</th>\n",
       "    </tr>\n",
       "  </thead>\n",
       "  <tbody>\n",
       "    <tr>\n",
       "      <th>count</th>\n",
       "      <td>2748.000000</td>\n",
       "      <td>2748.000000</td>\n",
       "      <td>2748.000000</td>\n",
       "      <td>2748.000000</td>\n",
       "      <td>2748.00000</td>\n",
       "      <td>2.748000e+03</td>\n",
       "      <td>2748.000000</td>\n",
       "    </tr>\n",
       "    <tr>\n",
       "      <th>mean</th>\n",
       "      <td>65.750262</td>\n",
       "      <td>66.990571</td>\n",
       "      <td>64.442791</td>\n",
       "      <td>65.719174</td>\n",
       "      <td>65.73758</td>\n",
       "      <td>1.878785e+06</td>\n",
       "      <td>1489.121339</td>\n",
       "    </tr>\n",
       "    <tr>\n",
       "      <th>std</th>\n",
       "      <td>55.026497</td>\n",
       "      <td>55.933352</td>\n",
       "      <td>54.071574</td>\n",
       "      <td>54.990483</td>\n",
       "      <td>55.01084</td>\n",
       "      <td>1.874114e+06</td>\n",
       "      <td>2143.911473</td>\n",
       "    </tr>\n",
       "    <tr>\n",
       "      <th>min</th>\n",
       "      <td>6.600000</td>\n",
       "      <td>7.600000</td>\n",
       "      <td>5.990000</td>\n",
       "      <td>6.800000</td>\n",
       "      <td>6.80000</td>\n",
       "      <td>1.242511e+04</td>\n",
       "      <td>1.480000</td>\n",
       "    </tr>\n",
       "    <tr>\n",
       "      <th>25%</th>\n",
       "      <td>12.842500</td>\n",
       "      <td>13.100000</td>\n",
       "      <td>12.580000</td>\n",
       "      <td>12.800000</td>\n",
       "      <td>12.77750</td>\n",
       "      <td>7.626676e+05</td>\n",
       "      <td>180.080000</td>\n",
       "    </tr>\n",
       "    <tr>\n",
       "      <th>50%</th>\n",
       "      <td>48.875000</td>\n",
       "      <td>49.525000</td>\n",
       "      <td>47.755000</td>\n",
       "      <td>48.810000</td>\n",
       "      <td>48.80000</td>\n",
       "      <td>1.395497e+06</td>\n",
       "      <td>582.795000</td>\n",
       "    </tr>\n",
       "    <tr>\n",
       "      <th>75%</th>\n",
       "      <td>104.810000</td>\n",
       "      <td>106.920000</td>\n",
       "      <td>102.240000</td>\n",
       "      <td>104.865000</td>\n",
       "      <td>104.75500</td>\n",
       "      <td>2.337885e+06</td>\n",
       "      <td>2068.592500</td>\n",
       "    </tr>\n",
       "    <tr>\n",
       "      <th>max</th>\n",
       "      <td>237.770000</td>\n",
       "      <td>240.020000</td>\n",
       "      <td>234.850000</td>\n",
       "      <td>237.670000</td>\n",
       "      <td>237.74000</td>\n",
       "      <td>3.002927e+07</td>\n",
       "      <td>32601.710000</td>\n",
       "    </tr>\n",
       "  </tbody>\n",
       "</table>\n",
       "</div>"
      ],
      "text/plain": [
       "        Open Price   High Price    Low Price  Last Traded Price  Close Price  \\\n",
       "count  2748.000000  2748.000000  2748.000000        2748.000000   2748.00000   \n",
       "mean     65.750262    66.990571    64.442791          65.719174     65.73758   \n",
       "std      55.026497    55.933352    54.071574          54.990483     55.01084   \n",
       "min       6.600000     7.600000     5.990000           6.800000      6.80000   \n",
       "25%      12.842500    13.100000    12.580000          12.800000     12.77750   \n",
       "50%      48.875000    49.525000    47.755000          48.810000     48.80000   \n",
       "75%     104.810000   106.920000   102.240000         104.865000    104.75500   \n",
       "max     237.770000   240.020000   234.850000         237.670000    237.74000   \n",
       "\n",
       "       Total Traded Quantity  Turnover (in Lakhs)  \n",
       "count           2.748000e+03          2748.000000  \n",
       "mean            1.878785e+06          1489.121339  \n",
       "std             1.874114e+06          2143.911473  \n",
       "min             1.242511e+04             1.480000  \n",
       "25%             7.626676e+05           180.080000  \n",
       "50%             1.395497e+06           582.795000  \n",
       "75%             2.337885e+06          2068.592500  \n",
       "max             3.002927e+07         32601.710000  "
      ]
     },
     "execution_count": 18,
     "metadata": {},
     "output_type": "execute_result"
    }
   ],
   "source": [
    "SUNPHARMA.describe()"
   ]
  },
  {
   "cell_type": "code",
   "execution_count": 20,
   "metadata": {},
   "outputs": [
    {
     "name": "stdout",
     "output_type": "stream",
     "text": [
      "<class 'pandas.core.frame.DataFrame'>\n",
      "DatetimeIndex: 2748 entries, 2000-01-03 to 2010-12-31\n",
      "Data columns (total 7 columns):\n",
      "Open Price               2748 non-null float64\n",
      "High Price               2748 non-null float64\n",
      "Low Price                2748 non-null float64\n",
      "Last Traded Price        2748 non-null float64\n",
      "Close Price              2748 non-null float64\n",
      "Total Traded Quantity    2748 non-null float64\n",
      "Turnover (in Lakhs)      2748 non-null float64\n",
      "dtypes: float64(7)\n",
      "memory usage: 171.8 KB\n"
     ]
    }
   ],
   "source": [
    "SUNPHARMA.info()"
   ]
  },
  {
   "cell_type": "code",
   "execution_count": 22,
   "metadata": {},
   "outputs": [
    {
     "data": {
      "text/plain": [
       "Open Price               0\n",
       "High Price               0\n",
       "Low Price                0\n",
       "Last Traded Price        0\n",
       "Close Price              0\n",
       "Total Traded Quantity    0\n",
       "Turnover (in Lakhs)      0\n",
       "dtype: int64"
      ]
     },
     "execution_count": 22,
     "metadata": {},
     "output_type": "execute_result"
    }
   ],
   "source": [
    "SUNPHARMA.isnull().sum()"
   ]
  },
  {
   "cell_type": "code",
   "execution_count": null,
   "metadata": {},
   "outputs": [],
   "source": []
  },
  {
   "cell_type": "code",
   "execution_count": null,
   "metadata": {},
   "outputs": [],
   "source": []
  },
  {
   "cell_type": "code",
   "execution_count": null,
   "metadata": {},
   "outputs": [],
   "source": []
  },
  {
   "cell_type": "code",
   "execution_count": null,
   "metadata": {},
   "outputs": [],
   "source": []
  }
 ],
 "metadata": {
  "kernelspec": {
   "display_name": "Python 3",
   "language": "python",
   "name": "python3"
  },
  "language_info": {
   "codemirror_mode": {
    "name": "ipython",
    "version": 3
   },
   "file_extension": ".py",
   "mimetype": "text/x-python",
   "name": "python",
   "nbconvert_exporter": "python",
   "pygments_lexer": "ipython3",
   "version": "3.6.6"
  }
 },
 "nbformat": 4,
 "nbformat_minor": 2
}
